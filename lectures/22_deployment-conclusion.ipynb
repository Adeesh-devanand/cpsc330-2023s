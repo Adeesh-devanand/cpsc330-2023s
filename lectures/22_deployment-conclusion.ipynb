{
 "cells": [
  {
   "cell_type": "markdown",
   "metadata": {
    "slideshow": {
     "slide_type": "slide"
    }
   },
   "source": [
    "![](img/330-banner.png)"
   ]
  },
  {
   "cell_type": "markdown",
   "metadata": {
    "slideshow": {
     "slide_type": "-"
    }
   },
   "source": [
    "# Lecture 22: Deployment and conclusion\n",
    "\n",
    "UBC 2020-21\n",
    "\n",
    "Instructor: Varada Kolhatkar"
   ]
  },
  {
   "cell_type": "markdown",
   "metadata": {
    "slideshow": {
     "slide_type": "skip"
    }
   },
   "source": [
    "## Imports"
   ]
  },
  {
   "cell_type": "code",
   "execution_count": 1,
   "metadata": {
    "slideshow": {
     "slide_type": "skip"
    }
   },
   "outputs": [],
   "source": [
    "import joblib\n",
    "import pandas as pd\n",
    "from sklearn.ensemble import RandomForestRegressor\n",
    "from sklearn.feature_extraction.text import CountVectorizer\n",
    "from sklearn.linear_model import LogisticRegression\n",
    "from sklearn.metrics import mean_absolute_error\n",
    "from sklearn.model_selection import cross_validate, train_test_split\n",
    "from sklearn.pipeline import Pipeline, make_pipeline"
   ]
  },
  {
   "cell_type": "markdown",
   "metadata": {
    "slideshow": {
     "slide_type": "slide"
    }
   },
   "source": [
    "## Lecture outline\n",
    "\n",
    "- Announcements\n",
    "- Model deployment (30 min)\n",
    "- Instructor/TA evaluations + Break (10 min)\n",
    "- Review / conclusion (20 min)"
   ]
  },
  {
   "cell_type": "markdown",
   "metadata": {
    "slideshow": {
     "slide_type": "slide"
    }
   },
   "source": [
    "## Learning objectives\n",
    "\n",
    "- Describe the goals and challenges of model deployment."
   ]
  },
  {
   "cell_type": "markdown",
   "metadata": {
    "slideshow": {
     "slide_type": "slide"
    }
   },
   "source": [
    "## Announcements\n",
    "\n",
    "- Last lecture today!\n",
    "- hw8 is due tonight \n",
    "- We will take time for formal course evaluations in this lecture."
   ]
  },
  {
   "cell_type": "markdown",
   "metadata": {
    "slideshow": {
     "slide_type": "slide"
    }
   },
   "source": [
    "#### Final exam\n",
    "\n",
    "- Our final exam is on **Dec. 19th at noon at PHRM 1101**.\n",
    "- Cummulative\n",
    "- Open book. You can refer to the notes.\n",
    "- Please bring your computer and charger. All of it is going to be on Canvas. \n",
    "- A combination of: Multiple choice questions, short answer questions, simple coding questions\n",
    "- No communication/collaboration \n",
    "- No public Piazza posts       \n",
    "- More details will be posted on Piazza. "
   ]
  },
  {
   "cell_type": "markdown",
   "metadata": {
    "slideshow": {
     "slide_type": "skip"
    }
   },
   "source": [
    "<br><br>"
   ]
  },
  {
   "cell_type": "markdown",
   "metadata": {
    "slideshow": {
     "slide_type": "slide"
    }
   },
   "source": [
    "## Model deployment (30 min)"
   ]
  },
  {
   "cell_type": "markdown",
   "metadata": {},
   "source": [
    "#### Attribution\n",
    "\n",
    "This material adapted from the [model deployment tutorial](https://github.com/TomasBeuzen/machine-learning-tutorials/blob/master/ml-deploy-model/deploy-with-flask.ipynb) by [Tomas Beuzen](https://www.tomasbeuzen.com/)."
   ]
  },
  {
   "cell_type": "markdown",
   "metadata": {
    "slideshow": {
     "slide_type": "slide"
    }
   },
   "source": [
    "### Try out this moment predictor\n",
    "\n",
    "https://moment-type-predictor.herokuapp.com/\n",
    "\n",
    "- In this lecture I will show you how to set up/develop this. "
   ]
  },
  {
   "cell_type": "markdown",
   "metadata": {
    "slideshow": {
     "slide_type": "slide"
    }
   },
   "source": [
    "#### What is deployment?\n",
    "\n",
    "- After we train a model, we want to use it!\n",
    "- The user likely does not want to install your Python stack, train your model.\n",
    "- You don't necessarily want to share your dataset.\n",
    "- So we need to do two things:\n",
    "\n",
    "1. Save/store your model for later use.\n",
    "2. Make the saved model conveniently accessible.\n",
    "\n",
    "We will use [Joblib](https://joblib.readthedocs.io/) for (1) and [Flask](https://flask.palletsprojects.com/) & [Heroku](https://www.heroku.com/) for (2)."
   ]
  },
  {
   "cell_type": "markdown",
   "metadata": {
    "slideshow": {
     "slide_type": "slide"
    }
   },
   "source": [
    "#### Requirements (I already did these)\n",
    "\n",
    "- Heroku account. Register [here](https://www.heroku.com/).\n",
    "- Heroku CLI. Download [here](https://devcenter.heroku.com/categories/command-line)."
   ]
  },
  {
   "cell_type": "markdown",
   "metadata": {},
   "source": [
    "More python installations:\n",
    "\n",
    "```\n",
    "pip install Flask\n",
    "pip install Flask-WTF\n",
    "pip install joblib\n",
    "```"
   ]
  },
  {
   "cell_type": "markdown",
   "metadata": {},
   "source": [
    "## Break (10 min)\n",
    "\n",
    "- We'll take a longer break today.\n",
    "- Consider taking this time to fill out the instructor/TA evaluations if you haven't already.\n",
    "    - Evaluation link: https://canvas.ubc.ca/courses/78046/external_tools/4732\n",
    "\n",
    "![](img/eva-coffee.png)\n",
    "\n",
    "- Here is [Mike's post on these evaluations](https://www.reddit.com/r/UBC/comments/k18qj7/teaching_evaluations_the_good_the_bad_and_the_ugly/)."
   ]
  },
  {
   "cell_type": "markdown",
   "metadata": {},
   "source": [
    "## Course review / conclusion (20 min)"
   ]
  },
  {
   "cell_type": "markdown",
   "metadata": {},
   "source": [
    "![](img/ml-workflow.png)"
   ]
  },
  {
   "cell_type": "markdown",
   "metadata": {},
   "source": [
    "### Learning objectives\n",
    "\n",
    "Here are the course learning outcomes: \n",
    "\n",
    "1. Identify problems that may be addressed with machine learning.\n",
    "2. Select the appropriate machine learning tool for a problem.\n",
    "3. Transform data of various types into usable features.\n",
    "4. Apply standard tools implementing supervised and unsupervised learning techniques.\n",
    "5. Describe core differences between training, validation, and testing regimes.\n",
    "6. Effectively communicate the results of a machine learning pipeline.\n",
    "7. Be realistic about the limitations of individual approaches and machine learning as a whole. \n",
    "8. Identify and avoid scenarios in which training and testing data are accidentally mixed (the \"Golden Rule\").\n",
    "9. Employ good habits for applying ML, such as starting an analysis with a baseline estimator.\n",
    "10. Create reproducible workflows and pipelines."
   ]
  },
  {
   "cell_type": "markdown",
   "metadata": {},
   "source": [
    "- How did we do? \n",
    "- Hopefully OK, except we skipped the last point (that will likely be its own new course)."
   ]
  },
  {
   "cell_type": "markdown",
   "metadata": {},
   "source": [
    "### What did we cover?\n",
    "\n",
    "I see the course roughly like this (not in order):\n",
    "\n",
    "Part 1: Supervised learning on tabular data\n",
    "\n",
    "- Overfitting, train/validation/test/deployment, cross-validation\n",
    "- Feature preprocessing, pipelines, imputation, OHE, etc\n",
    "- The Golden Rule, various ways to accidentally violate it\n",
    "- Classification metrics: confusion matrix, precision/recall, ROC, AUC\n",
    "- Regression metrics: MSE, MAPE\n",
    "- Feature importances, feature selection\n",
    "- Hyperparameter optimization"
   ]
  },
  {
   "cell_type": "markdown",
   "metadata": {},
   "source": [
    "- A bunch of models: \n",
    "  - baselines\n",
    "  - linear models (ridge, logistic regression)\n",
    "  - KNNs and RBF SVMs\n",
    "  - tree-based models (random forest, gradient boosted trees)\n",
    "  - Ensembles"
   ]
  },
  {
   "cell_type": "markdown",
   "metadata": {},
   "source": [
    "Part 2: Other data types (non-tabular)\n",
    "\n",
    "- Clustering: K-Means, DBSCAN\n",
    "- Recommender systems \n",
    "- Computer vision with pre-trained deep learning models (high level)\n",
    "- Language data, text preprocessing, embeddings, topic modeling\n",
    "- Time series\n",
    "- Right-censored data / survival analysis"
   ]
  },
  {
   "cell_type": "markdown",
   "metadata": {},
   "source": [
    "Part 3: Communication and Ethics\n",
    "\n",
    "- Ethics for ML\n",
    "- Communicating your results \n",
    "- ML skepticism"
   ]
  },
  {
   "cell_type": "markdown",
   "metadata": {},
   "source": [
    "### Some key takeaways\n",
    "\n",
    "Some useful guidelines:\n",
    "\n",
    "- Do train-test split right away and only once\n",
    "- Don't look at the test set until the end\n",
    "- Don't call `fit` on test/validation data\n",
    "- Use pipelines\n",
    "- Use baselines"
   ]
  },
  {
   "cell_type": "markdown",
   "metadata": {},
   "source": [
    "### Recipe to approach a supervised learning problem with tabular data:\n",
    "\n",
    "1. Have a long conversation with the stakeholder(s) who will be using your pipeline.\n",
    "2. Have a long conversation with the person(s) who collected the data.\n",
    "3. Think about the ethical implications - are you sure you want to do this project? If so, should ethics guide your approach?\n",
    "4. Random train-test split with fixed random seed; do not touch the test data until Step 16.\n",
    "5. Exploratory data analysis, outlier detection.\n",
    "6. Choose a scoring metric -> higher values should make you & your stakeholders happier.\n",
    "7. Fit a baseline model, e.g. `DummyClassifier` or `DummyRegressor`.\n",
    "8. Create a preprocessing pipeline. May involve feature engineering. (This is usually a time-consuming step!)\n",
    "9. Try a linear model, e.g. `LogisticRegression` or `Ridge`; tune hyperparameters with CV.\n",
    "10. Try other sensible model(s), e.g. LightGBM; tune hyperparameters with CV.\n",
    "11. For each model, look at sub-scores from the folds of cross-validation to get a sense of \"error bars\" on the scores.\n",
    "12. Pick a model that you like. Best CV score is a reasonable metric, though you may choose to favour simpler models.\n",
    "13. Look at feature importances.\n",
    "14. (optional) Perform some more diagnostics like confusion matrix for classification, or \"predicted vs. true\" scatterplots for regression.\n",
    "15. (optional) Try to calibrate the uncertainty/confidence outputted by your model.\n",
    "16. Test set evaluation.\n",
    "17. Question everything again: validity of results, bias/fairness of trained model, etc.\n",
    "18. Discuss your results with stakeholders.\n",
    "19. (optional) Retrain on all your data.\n",
    "20. Deployment & integration.\n",
    "21. Profit?\n",
    "\n",
    "PS: the order of steps is approximate, and some steps may need to be repeated during prototyping, experimentation, and as needed over time."
   ]
  },
  {
   "cell_type": "markdown",
   "metadata": {},
   "source": [
    "### What would I do differently?\n",
    "\n",
    "- Lots of room for improvement.  \n",
    "- Add more interactive components in the lectures. \n",
    "- Probably more pre-lecture videos. \n",
    "- Cover outliers material. \n",
    "- Some material on data collection. \n",
    "- Allocate two lectures to time series data.  \n",
    "- Improve computer vision lecture material.\n",
    "- Allocate one more lecture for ethics and communication.  \n",
    "\n",
    "I'm sure you have other suggestions - feel free to drop me an email or drop them in the course evaluations."
   ]
  },
  {
   "cell_type": "markdown",
   "metadata": {},
   "source": [
    "#### 330 vs. 340\n",
    "\n",
    "- I am hoping lots of people will take both courses.\n",
    "- There is some overlap but not a crazy amount.\n",
    "- If you want to learn how these methods work under the hood, CPSC 340 will give you a lot of that, such as:\n",
    "  - Implementing `Ridge.fit()` from scratch\n",
    "  - Mathematically speaking, what is `C` in `LogisticRegression`?\n",
    "  - How fast do these algorithms run in terms of the number of rows and columns of your dataset? \n",
    "  - Etc.\n",
    "- There are also a bunch of other methods covered. "
   ]
  },
  {
   "cell_type": "markdown",
   "metadata": {
    "slideshow": {
     "slide_type": "slide"
    }
   },
   "source": [
    "## Conclusion & farewell\n",
    "\n",
    "That's all, folks. We made it!\n",
    "\n",
    "![](img/eva-well-done.png)"
   ]
  }
 ],
 "metadata": {
  "celltoolbar": "Slideshow",
  "kernelspec": {
   "display_name": "Python [conda env:cpsc330]",
   "language": "python",
   "name": "conda-env-cpsc330-py"
  },
  "language_info": {
   "codemirror_mode": {
    "name": "ipython",
    "version": 3
   },
   "file_extension": ".py",
   "mimetype": "text/x-python",
   "name": "python",
   "nbconvert_exporter": "python",
   "pygments_lexer": "ipython3",
   "version": "3.9.7"
  }
 },
 "nbformat": 4,
 "nbformat_minor": 4
}
