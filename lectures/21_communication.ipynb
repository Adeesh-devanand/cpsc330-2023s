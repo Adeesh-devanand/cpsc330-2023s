{
 "cells": [
  {
   "cell_type": "markdown",
   "metadata": {
    "slideshow": {
     "slide_type": "slide"
    }
   },
   "source": [
    "![](img/330-banner.png)"
   ]
  },
  {
   "cell_type": "markdown",
   "metadata": {
    "slideshow": {
     "slide_type": "-"
    }
   },
   "source": [
    "# Lecture 21: Communication\n",
    "\n",
    "UBC 2020-21\n",
    "\n",
    "Instructor: Varada Kolhatkar"
   ]
  },
  {
   "cell_type": "markdown",
   "metadata": {
    "slideshow": {
     "slide_type": "skip"
    }
   },
   "source": [
    "## Imports"
   ]
  },
  {
   "cell_type": "code",
   "execution_count": 1,
   "metadata": {},
   "outputs": [],
   "source": [
    "import numpy as np\n",
    "import pandas as pd\n",
    "import matplotlib.pyplot as plt\n",
    "from sklearn.metrics import log_loss\n",
    "\n",
    "from sklearn.impute import SimpleImputer\n",
    "from sklearn.pipeline import Pipeline, make_pipeline\n",
    "from sklearn.compose import ColumnTransformer, TransformedTargetRegressor\n",
    "from sklearn.preprocessing import OneHotEncoder, OrdinalEncoder\n",
    "from sklearn.preprocessing import StandardScaler, MinMaxScaler\n",
    "from sklearn.linear_model import Ridge\n",
    "from sklearn.ensemble import RandomForestRegressor, RandomForestClassifier\n",
    "from sklearn.dummy import DummyClassifier, DummyRegressor\n",
    "from sklearn.model_selection import train_test_split, cross_val_score, cross_validate, GridSearchCV"
   ]
  },
  {
   "cell_type": "markdown",
   "metadata": {},
   "source": [
    "## Learning objectives\n",
    "\n",
    "- When communicating about applied ML, tailor an explanation to the intended audience.\n",
    "- Apply best practices of technical communication, such as bottom-up explanations and reader-centric writing.\n",
    "- Given an ML problem, analyze the decision being made and the objectives.\n",
    "- Avoid the pitfall of thinking about ML as coding in isolation; build the habit of relating your work to the surrounding context and stakeholders.\n",
    "- Interpret a confidence score or credence, e.g. what does it mean to be 5% confident that a statement is true.\n",
    "- Maintain a healthy skepticism of `predict_proba` scores and their possible interpretation as credences.\n",
    "- Be careful and precise when communicating confidence to stakeholders in an ML project.\n",
    "- Identify misleading visualizations."
   ]
  },
  {
   "cell_type": "markdown",
   "metadata": {},
   "source": [
    "## Lecture plan \n",
    "\n",
    "- Announcements\n",
    "- Confidence, credence, and `predict_proba` (20 min)\n",
    "- Credence activity (20 min)\n",
    "- Break (5 min)\n",
    "- Visualization videos recap (10 min)\n",
    "- Visualization activity (25 min)"
   ]
  },
  {
   "cell_type": "code",
   "execution_count": 2,
   "metadata": {},
   "outputs": [],
   "source": [
    "plt.rcParams['font.size'] = 16"
   ]
  },
  {
   "cell_type": "markdown",
   "metadata": {},
   "source": [
    "## Announcements\n",
    "\n",
    "- hw6 grades posted\n",
    "- hw8 (last one) deadline on December 7th at 11:59pm\n",
    "- Almost there, hang in there!"
   ]
  },
  {
   "cell_type": "markdown",
   "metadata": {},
   "source": [
    "## Attribution\n",
    "\n",
    "- The first part of this lecture is adapted from [DSCI 542](https://github.com/UBC-MDS/DSCI_542_comm-arg), created by [David Laing](https://davidklaing.com/).\n",
    "- The visualization component of this lecture benefitted from discussions with [Firas Moosvi](http://firas.moosvi.com/) about his course, [DSCI 531](https://github.com/UBC-MDS/DSCI_531_viz-1)."
   ]
  },
  {
   "cell_type": "markdown",
   "metadata": {},
   "source": [
    "## Why should I care about effective communication?\n",
    "\n",
    "- Most ML practitioners work in an organization with >1 people.\n",
    "- There will very likely be stakeholders other than yourself.\n",
    "- Those people need to understand what you're doing because:\n",
    "  - their state of mind may change the way you do things (see below)\n",
    "  - your state of mind may change the way they do things (interpreting your results)"
   ]
  },
  {
   "cell_type": "markdown",
   "metadata": {},
   "source": [
    "ML suffers from some particular communication issues:\n",
    "- overstating one's results / unable to articulate the limitations\n",
    "- unable to explain the predictions\n",
    "- Can we trust test error?\n",
    "- Why did CatBoost make that prediction?\n",
    "- What does it mean if `predict_proba` outputs 0.9?\n",
    "\n",
    "These issues are there because these things are actually very hard to explain!"
   ]
  },
  {
   "cell_type": "markdown",
   "metadata": {},
   "source": [
    "## Activity: explaining `GridSearchCV` (15 min)"
   ]
  },
  {
   "cell_type": "markdown",
   "metadata": {},
   "source": [
    "Below are two possible explanations of `GridSearchCV` pitched to different audiences. Read them both and then follow the instructions at the end."
   ]
  },
  {
   "cell_type": "markdown",
   "metadata": {},
   "source": [
    "#### Explanation 1"
   ]
  },
  {
   "cell_type": "markdown",
   "metadata": {},
   "source": [
    "Machine learning algorithms, like an airplane's cockpit, typically involve a bunch of knobs and switches that need to be set.\n",
    "\n",
    "![](https://i.pinimg.com/236x/ea/43/f3/ea43f3c7f3a8c92d884ce012c77628fd--cockpit-gauges.jpg)\n",
    "\n",
    "For example, check out the documentation of the popular random forest algorithm [here](https://scikit-learn.org/stable/modules/generated/sklearn.ensemble.RandomForestClassifier.html). Here's a list of the function arguments, along with their default values (from the documentation):\n",
    "\n",
    "> class sklearn.ensemble.RandomForestClassifier(n_estimators=100, criterion='gini', max_depth=None, min_samples_split=2, min_samples_leaf=1, min_weight_fraction_leaf=0.0, max_features='auto', max_leaf_nodes=None, min_impurity_decrease=0.0, min_impurity_split=None, bootstrap=True, oob_score=False, n_jobs=None, random_state=None, verbose=0, warm_start=False, class_weight=None, ccp_alpha=0.0, max_samples=None)\n",
    "\n",
    "Holy cow, that's a lot of knobs and switches! As a machine learning practitioner, how am I supposed to choose `n_estimators`? Should I leave it at the default of 100? Or try 1000? What about `criterion` or `class_weight` for that matter? Should I trust the defaults?\n",
    "\n",
    "Enter [GridSearchCV](https://scikit-learn.org/stable/modules/generated/sklearn.model_selection.GridSearchCV.html) to save the day. The general strategy here is the choose the settings that perform best on the specific task of interest. So I can't say `n_estimators=100` is better than `n_estimators=1000` without knowing what problem I'm working on. For a specific problem, you usually have a numerical score that measures performance. `GridSearchCV` is part of the popular [scikit-learn](https://scikit-learn.org/) Python machine learning library. It works by searching over various settings and tells you which one worked best on your problem. \n",
    "\n",
    "The \"grid\" in \"grid search\" comes from the fact that tries all possible combinations on a grid. For example, if you want it to consider setting `n_estimators` to 100, 150 or 200, and you want it to consider setting `criterion` to `'gini'` or `'entropy'`, then it will search over all 6 possible combinations in a grid of 3 possible values by 2 possible values: \n",
    "\n",
    "|                    | `criterion='gini'` | `criterion='entropy'` |\n",
    "|----------------------|--------|---------|\n",
    "| `n_estimators=100` |    1     |    2     |\n",
    "| `n_estimators=150` |    3     |    4     |\n",
    "| `n_estimators=200` |    5     |    6     |\n",
    "\n",
    "Here is a code sample that uses `GridSearchCV` to select from the 6 options we just mentioned. The problem being solved is classifying images of handwritten digits into the 10 digit categories (0-9). I chose this because the dataset is conveniently built in to scikit-learn:"
   ]
  },
  {
   "cell_type": "code",
   "execution_count": 3,
   "metadata": {},
   "outputs": [
    {
     "data": {
      "text/plain": [
       "{'criterion': 'gini', 'n_estimators': 100}"
      ]
     },
     "execution_count": 3,
     "metadata": {},
     "output_type": "execute_result"
    }
   ],
   "source": [
    "# imports\n",
    "from sklearn.model_selection import GridSearchCV\n",
    "from sklearn.ensemble import RandomForestClassifier\n",
    "from sklearn import datasets\n",
    "\n",
    "# load a dataset\n",
    "data = datasets.load_digits()\n",
    "X = data['data']\n",
    "y = data['target']\n",
    "\n",
    "# set up the grid search\n",
    "grid_search = GridSearchCV(RandomForestClassifier(random_state=123),\n",
    "                           param_grid={\n",
    "                                'n_estimators': [100, 150, 200],\n",
    "                                'criterion': ['gini', 'entropy']\n",
    "                           })\n",
    "\n",
    "# run the grid search\n",
    "grid_search.fit(X, y)\n",
    "grid_search.best_params_"
   ]
  },
  {
   "cell_type": "markdown",
   "metadata": {},
   "source": [
    "As we can see from the output above, the grid search selected `criterion='gini', n_estimators=100`, which was one of our 6 options above (specifically Option 1).\n",
    "\n",
    "By the way, these \"knobs\" we've been setting are called [_hyperparameters_](https://en.wikipedia.org/wiki/Hyperparameter_(machine_learning) and the process of setting these hyperparameters automatically is called [_hyperparameter optimization_](https://en.wikipedia.org/wiki/Hyperparameter_optimization) or _hyperparameter tuning_."
   ]
  },
  {
   "cell_type": "markdown",
   "metadata": {},
   "source": [
    "~400 words, not including code."
   ]
  },
  {
   "cell_type": "markdown",
   "metadata": {},
   "source": [
    "<br><br><br><br><br><br>"
   ]
  },
  {
   "cell_type": "markdown",
   "metadata": {},
   "source": [
    "#### Explanation 2"
   ]
  },
  {
   "cell_type": "markdown",
   "metadata": {},
   "source": [
    "https://medium.com/datadriveninvestor/an-introduction-to-grid-search-ff57adcc0998\n",
    "\n",
    "~400 words, not including code."
   ]
  },
  {
   "cell_type": "markdown",
   "metadata": {},
   "source": [
    "<br><br><br><br><br><br>"
   ]
  },
  {
   "cell_type": "markdown",
   "metadata": {},
   "source": [
    "#### Discussion questions:"
   ]
  },
  {
   "cell_type": "markdown",
   "metadata": {},
   "source": [
    "- What do you like about each explanation?\n",
    "- What do you dislike about each explanation?\n",
    "- What do you think is the intended audience for each explanation?\n",
    "- Which explanation do you think is more effective overall for someone on Day 1 of CPSC 330?\n",
    "- Each explanation has an image. Which one is more effective? What are the pros/cons?\n",
    "- Each explanation has some sample code. Which one is more effective? What are the pros/cons?"
   ]
  },
  {
   "cell_type": "markdown",
   "metadata": {},
   "source": [
    "After you're done reading, take ~5 min to consider the discussion questions above. Paste your answer to **at least one** of the above questions in the [Google doc](https://docs.google.com/document/d/1y4YMSAWQGRFFn8ig0pAs5TJR5h2jKnvtY97HN-rEkyE/edit?usp=sharing) under the appropriate question heading."
   ]
  },
  {
   "cell_type": "markdown",
   "metadata": {},
   "source": [
    "## Principles of good explanations (15 min)"
   ]
  },
  {
   "cell_type": "markdown",
   "metadata": {},
   "source": [
    "#### Concepts *then* labels, not the other way around\n",
    "\n",
    "The first explanation start with an analogy for the concept (and the label is left until the very end):\n",
    "\n",
    "> Machine learning algorithms, like an airplane's cockpit, typically involve a bunch of knobs and switches that need to be set.\n",
    "\n",
    "In the second explanation, the first sentence is wasted on anyone who doesn't already know what \"hyperparameter tuning\" means:\n",
    "\n",
    "> Grid search is the process of performing hyper parameter tuning in order to determine the optimal values for a given model. \n",
    "\n",
    "The effectiveness of these different statements depend on your audience. \n",
    "\n",
    "See [this video](https://twitter.com/ProfFeynman/status/899963856549625858?s=20): \"I learned very early the difference between knowing the name of something and knowing something.\" -Richard Feynman."
   ]
  },
  {
   "cell_type": "markdown",
   "metadata": {},
   "source": [
    "#### Bottom-up explanations"
   ]
  },
  {
   "cell_type": "markdown",
   "metadata": {},
   "source": [
    "The [Curse of Knowledge](https://en.wikipedia.org/wiki/Curse_of_knowledge) leads to *top-down* explanations:\n",
    "\n",
    "![](img/top_down.png)\n",
    "\n",
    "- When you know something well, you think about things in the context of all your knowledge. \n",
    "- Those lacking the context, or frame of mind, cannot easily understand. "
   ]
  },
  {
   "cell_type": "markdown",
   "metadata": {},
   "source": [
    "There is another way: *bottom-up* explanations:\n",
    "\n",
    "![](img/bottom_up.png)\n",
    "\n",
    "When you're brand new to a concept, you benefit from analogies, concrete examples and familiar patterns.\n"
   ]
  },
  {
   "cell_type": "markdown",
   "metadata": {},
   "source": [
    "### New ideas in small chunks\n",
    "\n",
    "The first explanation has a hidden conceptual skeleton:\n",
    "\n",
    "1. The concept of setting a bunch of values.\n",
    "2. Random forest example.\n",
    "3. The problem / pain point.\n",
    "4. The solution.\n",
    "5. How it works - high level.\n",
    "6. How it works - written example.\n",
    "7. How it works - code example.\n",
    "8. The name of what we were discussing all this time."
   ]
  },
  {
   "cell_type": "markdown",
   "metadata": {},
   "source": [
    "### Approach from all angles\n",
    "\n",
    "When we're trying to draw mental boundaries around a concept, it's helpful to see examples on all sides of those boundaries. If we were writing a longer explanation, it might have been better to show more, e.g.\n",
    "\n",
    "- Performance with and without hyperparameter tuning. \n",
    "- Other types of hyperparameter tuning (e.g. `RandomizedSearchCV`)."
   ]
  },
  {
   "cell_type": "markdown",
   "metadata": {},
   "source": [
    "### Reuse your running examples\n",
    "\n",
    "Effective explanations often use the same example throughout the text and code. This helps readers follow the line of reasoning."
   ]
  },
  {
   "cell_type": "markdown",
   "metadata": {},
   "source": [
    "### When experimenting, show the results asap\n",
    "\n",
    "The first explanation shows the output of the code, whereas the second does not. This is easy to do and makes a big difference."
   ]
  },
  {
   "cell_type": "markdown",
   "metadata": {},
   "source": [
    "### Interesting to you != useful to the reader (aka it's not about you)\n",
    "\n",
    "Here is something I deleted from my explanation:\n",
    "\n",
    "> Some hyperparameters, like `n_estimators` are numeric. Numeric hyperparameters are like the knobs in the cockpit: you can tune them continuously. `n_estimators` is numeric. Categorical hyperparameters are like the switches in the cockpit: they can take on (two or more) distinct values. `criterion` is categorical. \n",
    "\n",
    "It's a very elegant analogy! But is it helpful?\n",
    "\n",
    "And furthermore, what is my hidden motivation for wanting to include it? Elegance, art, and the pursuit of higher beauty? Or _making myself look smart_? So maybe another name for this principle could be **It's not about you.**"
   ]
  },
  {
   "cell_type": "markdown",
   "metadata": {},
   "source": [
    "## Break (5 min)"
   ]
  },
  {
   "cell_type": "markdown",
   "metadata": {},
   "source": [
    "## ML and decision-making (5 min)"
   ]
  },
  {
   "cell_type": "markdown",
   "metadata": {},
   "source": [
    "- There is often a wide gap between what people care about and what ML can do.\n",
    "- To understand what ML can do, let's think about what **decisions** will be made using ML. \n"
   ]
  },
  {
   "cell_type": "markdown",
   "metadata": {},
   "source": [
    "#### Decisions involve a few key pieces\n",
    "\n",
    "- The **decision variable**: the variable that is manipulated through the decision.\n",
    "  - E.g. how much should I sell my house for? (numeric)\n",
    "  - E.g. should I sell my house? (categorical)\n",
    "- The decision-maker's **objectives**: the variables that the decision-maker ultimately cares about, and wishes to manipulate indirectly through the decision variable.\n",
    "  - E.g. my total profit, time to sale, etc.\n",
    "- The **context**: the variables that mediate the relationship between the decision variable and the objectives.\n",
    "  - E.g. the housing market, cost of marketing it, my timeline, etc."
   ]
  },
  {
   "cell_type": "markdown",
   "metadata": {},
   "source": [
    "#### How does this inform you as an ML practitioner?\n",
    "\n",
    "Questions you have to answer:\n",
    "\n",
    "- Who is the decision maker?\n",
    "- What are their objectives?\n",
    "- What are their alternatives?\n",
    "- What is their context?\n",
    "- What data do I need?"
   ]
  },
  {
   "cell_type": "markdown",
   "metadata": {},
   "source": [
    "### Interim summary\n",
    "\n",
    "- Principles of effective communication\n",
    "  - Concepts then labels, not the other way around.\n",
    "  - Bottom-up explanations.\n",
    "  - New ideas in small chunks.\n",
    "  - Examples from all angles.\n",
    "  - Reuse your running examples.\n",
    "  - When experimenting, show the results asap.\n",
    "  - It's not about you."
   ]
  },
  {
   "cell_type": "markdown",
   "metadata": {},
   "source": [
    "- Decision-making\n",
    "  - Decision variables, objectives, and context.\n",
    "  - How does ML fit in?"
   ]
  },
  {
   "cell_type": "markdown",
   "metadata": {},
   "source": [
    "<br><br>"
   ]
  },
  {
   "cell_type": "markdown",
   "metadata": {},
   "source": [
    "## Confidence and `predict_proba` (20 min)"
   ]
  },
  {
   "cell_type": "markdown",
   "metadata": {},
   "source": [
    "- What does it mean to be \"confident\" in your results?\n",
    "- When you perform analysis, you are responsible for many judgment calls.\n",
    "- [Your results will be different than others'](https://fivethirtyeight.com/features/science-isnt-broken/#part1).\n",
    "- As you make these judgments and start to form conclusions, how can you recognize your own uncertainties about the data so that you can communicate confidently?"
   ]
  },
  {
   "cell_type": "markdown",
   "metadata": {},
   "source": [
    "### What does this mean for us, when we're trying to make claims about our data?\n",
    "\n",
    "Let's imagine that the following claim is true:\n",
    "\n",
    "> Vancouver has the highest cost of living of all cities in Canada.\n",
    "\n",
    "Now let's consider a few beliefs we could hold:\n",
    "\n",
    "1. Vancouver has the highest cost of living of all cities in Canada. **I am 95% sure of this.** \n",
    "2. Vancouver has the highest cost of living of all cities in Canada. **I am 55% sure of this.** \n",
    "\n",
    "The part is bold is called a [credence](https://en.wikipedia.org/wiki/Credence_(statistics)). Which belief is better?"
   ]
  },
  {
   "cell_type": "markdown",
   "metadata": {},
   "source": [
    "But what if it's actually Toronto that has the highest cost of living in Canada?\n",
    "\n",
    "1. Vancouver has the highest cost of living of all cities in Canada. **I am 95% sure of this.** \n",
    "2. Vancouver has the highest cost of living of all cities in Canada. **I am 55% sure of this.** \n",
    "\n",
    "Which belief is better now?"
   ]
  },
  {
   "cell_type": "markdown",
   "metadata": {},
   "source": [
    "**Conclusion: We don't just want to be right. We want to be confident when we're right and hesitant when we're wrong.**"
   ]
  },
  {
   "cell_type": "markdown",
   "metadata": {},
   "source": [
    "### What do credences mean in practical terms?\n",
    "\n",
    "One of two things:\n",
    "\n",
    "* **I would accept a bet at these odds.** 99% sure means, \"For the chance of winning \\\\$1, I would bet \\\\$99 that I'm right about this.\" 75% sure means, \"For the chance of winning \\\\$25, I would bet \\\\$75 that I'm right about this.\"\n",
    "* **Long-run frequency of correctness.** 99% sure means, \"For every 100 predictions I make at this level of confidence, I would expect only 1 of them to be incorrect.\" 75% sure means, \"For every 100 predictions I make at this level of confidence, I would expect about 25 of them to be incorrect.\""
   ]
  },
  {
   "cell_type": "markdown",
   "metadata": {},
   "source": [
    "### It's easy enough to evaluate how good we are at being right...\n",
    "\n",
    "But if we want to evaluate *how good we are at knowing how right we are*?\n",
    "\n",
    "We would need to keep of not just the correctness of our predictions, but also our confidence in those predictions.\n"
   ]
  },
  {
   "cell_type": "markdown",
   "metadata": {},
   "source": [
    "### What does this have to do with applied ML?\n",
    "\n",
    "- What if you `predict` that a credit card transaction is fraudulent?\n",
    "  - We probably want `predict_proba` a lot of the time.\n",
    "- What if `predict_proba` is 0.95 in that case?\n",
    "  - How confident are YOU?\n",
    "- What if you forecast that avocado prices will go up next week? \n",
    "  - How confident are you there?\n",
    "- Or what if you predict a house price to be \\\\$800k? \n",
    "  - That is not even a true/false statement."
   ]
  },
  {
   "cell_type": "markdown",
   "metadata": {},
   "source": [
    "### Loss functions"
   ]
  },
  {
   "cell_type": "markdown",
   "metadata": {},
   "source": [
    "When you call `fit` for `LogisticRegression` it has these same preferences: correct and confident > correct and hesitant > incorrect and hesitant > incorrect and confident."
   ]
  },
  {
   "cell_type": "code",
   "execution_count": 4,
   "metadata": {},
   "outputs": [],
   "source": [
    "from sklearn.metrics import log_loss"
   ]
  },
  {
   "cell_type": "markdown",
   "metadata": {},
   "source": [
    "- This is a \"loss\" or \"error\" function like mean squared error, so lower values are better.\n",
    "- When you call `fit` it tries to minimize this metric."
   ]
  },
  {
   "cell_type": "markdown",
   "metadata": {},
   "source": [
    "Correct and 95% confident:"
   ]
  },
  {
   "cell_type": "code",
   "execution_count": 5,
   "metadata": {},
   "outputs": [
    {
     "data": {
      "text/plain": [
       "0.05129329438755058"
      ]
     },
     "execution_count": 5,
     "metadata": {},
     "output_type": "execute_result"
    }
   ],
   "source": [
    "log_loss(y_true=np.array([0]), y_pred=np.array([[0.95, 0.05]]), labels=(0,1))"
   ]
  },
  {
   "cell_type": "markdown",
   "metadata": {},
   "source": [
    "Correct and 55% confident:"
   ]
  },
  {
   "cell_type": "code",
   "execution_count": 6,
   "metadata": {},
   "outputs": [
    {
     "data": {
      "text/plain": [
       "0.5978370007556204"
      ]
     },
     "execution_count": 6,
     "metadata": {},
     "output_type": "execute_result"
    }
   ],
   "source": [
    "log_loss(y_true=np.array([0]), y_pred=np.array([[0.55, 0.45]]), labels=(0,1))"
   ]
  },
  {
   "cell_type": "markdown",
   "metadata": {},
   "source": [
    "Incorrect and 55% confident:"
   ]
  },
  {
   "cell_type": "code",
   "execution_count": 7,
   "metadata": {},
   "outputs": [
    {
     "data": {
      "text/plain": [
       "0.7985076962177716"
      ]
     },
     "execution_count": 7,
     "metadata": {},
     "output_type": "execute_result"
    }
   ],
   "source": [
    "log_loss(y_true=np.array([0]), y_pred=np.array([[0.45, 0.55]]), labels=(0,1))"
   ]
  },
  {
   "cell_type": "markdown",
   "metadata": {},
   "source": [
    "Incorrect and 95% confident:"
   ]
  },
  {
   "cell_type": "code",
   "execution_count": 8,
   "metadata": {},
   "outputs": [
    {
     "data": {
      "text/plain": [
       "2.995732273553991"
      ]
     },
     "execution_count": 8,
     "metadata": {},
     "output_type": "execute_result"
    }
   ],
   "source": [
    "log_loss(y_true=np.array([0]), y_pred=np.array([[0.05, 0.95]]), labels=(0,1))"
   ]
  },
  {
   "cell_type": "code",
   "execution_count": 9,
   "metadata": {},
   "outputs": [
    {
     "data": {
      "image/png": "[encoded data removed]",
      "text/plain": [
       "<Figure size 432x288 with 1 Axes>"
      ]
     },
     "metadata": {
      "needs_background": "light"
     },
     "output_type": "display_data"
    }
   ],
   "source": [
    "grid = np.linspace(0,1,1000)\n",
    "plt.plot(grid, [log_loss(y_true=np.array([1]), y_pred=np.array([g]), labels=(0,1)) for g in grid]);\n",
    "plt.xlabel(\"Confidence in correct answer\");\n",
    "plt.ylabel(\"Loss (lower is better)\");"
   ]
  },
  {
   "cell_type": "markdown",
   "metadata": {},
   "source": [
    "- Your loss goes to 0 as you approach 100% confidence in the correct answer.\n",
    "- Your loss goes to infinity as you approach 100% confidence in the incorrect answer.\n",
    "- (Optional) See also the very related [How to assign partial credit on an exam of true-false questions?](https://terrytao.wordpress.com/2016/06/01/how-to-assign-partial-credit-on-an-exam-of-true-false-questions/)"
   ]
  },
  {
   "cell_type": "markdown",
   "metadata": {},
   "source": [
    "The real `LogisticRegression` is averaging this score over all training examples."
   ]
  },
  {
   "cell_type": "markdown",
   "metadata": {},
   "source": [
    "\n",
    "Some nice examples: \n",
    "\n",
    "- [Scott Alexander](https://slatestarcodex.com/2019/01/22/2018-predictions-calibration-results/)\n",
    "  - Look at how the plot starts at 50%. That is because being 40% confident of \"X\" is the same as being 60% confident of \"not X\".\n",
    "- [Good Judgment Project](https://www.gjopen.com/)\n",
    "\n",
    "\n",
    "\n"
   ]
  },
  {
   "cell_type": "markdown",
   "metadata": {},
   "source": [
    "## Credence Activity (15 min)\n",
    "\n",
    "- Take a few minutes and assign credences or values to the claims below, in the Google Doc. Afterwards, we'll discuss.\n",
    "- **Do not search the answers; the point of the exercise is to evaluate how good we are at guessing.** \n",
    "- Try not to be influenced by other peoples' answers! Better to pick your answers before going to the Google Doc.\n",
    "\n",
    "1. I am __ % sure that the world's longest river is between 6000km and 8000km. \n",
    "2. I am __ % sure that there is 4 to 8 liters of blood in an average adult human body. \n",
    "3. I am __ % sure that the planet Mars is bigger (diameter) than the planet Mercury. \n",
    "4. I am 99% sure that the world's tallest tree taller than __ m.\n",
    "5. I am 90% sure that the world's tallest tree taller than __ m.\n",
    "6. I am 50% sure that the world's tallest tree taller than __ m.\n",
    "\n",
    "NOTE: 100% means you are completely sure the statement is true, 0% means you are completely sure the statement is false."
   ]
  },
  {
   "cell_type": "markdown",
   "metadata": {},
   "source": [
    "<br><br>"
   ]
  },
  {
   "cell_type": "markdown",
   "metadata": {},
   "source": [
    "## Visualizing your results (5 min)"
   ]
  },
  {
   "cell_type": "markdown",
   "metadata": {},
   "source": [
    "Pre-viewing review from [Calling BS visualization videos](https://www.youtube.com/watch?v=T-5aLbNeGo0&list=PLPnZfvKID1Sje5jWxt-4CSZD7bUI4gSPS&index=30&t=0s):\n",
    "\n",
    "- Dataviz in the popular media.\n",
    "  - e.g. [modern NYT](https://youtu.be/T-5aLbNeGo0?t=367)\n",
    "- Misleading axes.\n",
    "  - e.g. [vaccines](https://youtu.be/9pNWVMxaFuM?t=299)\n",
    "- Manipulating bin sizes.\n",
    "  - e.g. [tax dollars](https://youtu.be/zAg1wsYfwsM?t=196)\n",
    "- Dataviz ducks.\n",
    "  - e.g. [drinking water](https://youtu.be/rmii1hfP6d4?t=169)\n",
    "  - \"look how clever we are about design\" -> making it about me instead of about you (see last class)\n",
    "- Glass slippers.\n",
    "  - e.g. [internet marketing tree](https://youtu.be/59teS0SUHtI?t=285)\n",
    "- The principle of proportional ink.\n",
    "  - e.g. [most read books](https://youtu.be/oNhusd3xFC4?t=147)"
   ]
  },
  {
   "cell_type": "markdown",
   "metadata": {},
   "source": [
    "- [Demo of cleaning up a plot](https://www.darkhorseanalytics.com/blog/data-looks-better-naked)\n",
    "- [Principle of proportional ink](https://serialmentor.com/dataviz/proportional-ink.html) from a viz textbook."
   ]
  },
  {
   "cell_type": "code",
   "execution_count": null,
   "metadata": {},
   "outputs": [],
   "source": []
  },
  {
   "cell_type": "markdown",
   "metadata": {},
   "source": [
    "## Visualization activity (20 min)\n",
    "\n",
    "- We'll load up the housing data as per usual.\n",
    "- The housing data is not included in the course repo, here is a link: https://www.kaggle.com/c/home-data-for-ml-course/"
   ]
  },
  {
   "cell_type": "code",
   "execution_count": 11,
   "metadata": {},
   "outputs": [],
   "source": [
    "housing_df = pd.read_csv(\"data/housing-kaggle/train.csv\", index_col=0)\n",
    "\n",
    "housing_train, housing_test = train_test_split(housing_df, random_state=123)\n",
    "\n",
    "X_train = housing_train.drop(columns=['SalePrice'])\n",
    "y_train = housing_train['SalePrice']\n",
    "\n",
    "X_test = housing_test.drop(columns=['SalePrice'])\n",
    "y_test = housing_test['SalePrice']"
   ]
  },
  {
   "cell_type": "code",
   "execution_count": 12,
   "metadata": {},
   "outputs": [],
   "source": [
    "numeric_features     = ['LotFrontage', 'LotArea', 'OverallQual', 'OverallCond', 'YearBuilt', \n",
    "                        'YearRemodAdd', 'MasVnrArea', 'BsmtFinSF1', 'BsmtFinSF2', 'BsmtUnfSF', \n",
    "                        'TotalBsmtSF', '1stFlrSF', '2ndFlrSF', 'LowQualFinSF', 'GrLivArea', \n",
    "                        'BsmtFullBath', 'BsmtHalfBath', 'FullBath', 'HalfBath', \n",
    "                        'TotRmsAbvGrd', 'Fireplaces', 'GarageYrBlt', 'GarageCars', \n",
    "                        'GarageArea', 'WoodDeckSF', 'OpenPorchSF', 'EnclosedPorch', '3SsnPorch', \n",
    "                        'ScreenPorch', 'PoolArea', 'MiscVal', 'YrSold']\n",
    "ordinal_features_reg = ['ExterQual', 'ExterCond', 'BsmtQual', 'BsmtCond', 'HeatingQC', \n",
    "                        'KitchenQual', 'FireplaceQu', 'GarageQual', 'GarageCond', 'PoolQC']\n",
    "ordinal_features_oth = ['BsmtExposure', 'BsmtFinType1', 'BsmtFinType2', \n",
    "                        'Functional',  'Fence']\n",
    "categorical_features = list(set(X_train.columns) - set(numeric_features) - set(ordinal_features_reg))\n",
    "\n",
    "ordering = ['Po', 'Fa', 'TA', 'Gd', 'Ex']"
   ]
  },
  {
   "cell_type": "code",
   "execution_count": 13,
   "metadata": {},
   "outputs": [],
   "source": [
    "numeric_preprocessing = make_pipeline(SimpleImputer(strategy='median'), \n",
    "                                      StandardScaler())\n",
    "ordinal_preprocessing = make_pipeline(SimpleImputer(strategy='most_frequent'), \n",
    "                                      OrdinalEncoder(categories=[ordering]*len(ordinal_features_reg)))\n",
    "categorical_preprocessing = make_pipeline(SimpleImputer(strategy='constant', fill_value=\"?\"),\n",
    "                                          OneHotEncoder(handle_unknown='ignore', sparse=False))"
   ]
  },
  {
   "cell_type": "code",
   "execution_count": 14,
   "metadata": {},
   "outputs": [],
   "source": [
    "preprocessing = ColumnTransformer([\n",
    "    ('numeric', numeric_preprocessing, numeric_features),\n",
    "    ('ordinal', ordinal_preprocessing, ordinal_features_reg),\n",
    "    ('categorical', categorical_preprocessing, categorical_features)\n",
    "])"
   ]
  },
  {
   "cell_type": "code",
   "execution_count": 15,
   "metadata": {},
   "outputs": [],
   "source": [
    "preprocessing.fit(X_train);"
   ]
  },
  {
   "cell_type": "code",
   "execution_count": 16,
   "metadata": {},
   "outputs": [],
   "source": [
    "ohe_columns = list(preprocessing.named_transformers_['categorical'].named_steps['onehotencoder'].get_feature_names(categorical_features))\n",
    "new_columns = numeric_features + ordinal_features_reg + ohe_columns"
   ]
  },
  {
   "cell_type": "code",
   "execution_count": 17,
   "metadata": {},
   "outputs": [],
   "source": [
    "X_train_housing = pd.DataFrame(preprocessing.transform(X_train), index=X_train.index, columns=new_columns)\n",
    "X_test_housing = pd.DataFrame(preprocessing.transform(X_test), index=X_test.index, columns=new_columns)"
   ]
  },
  {
   "cell_type": "code",
   "execution_count": 18,
   "metadata": {},
   "outputs": [],
   "source": [
    "from sklearn.ensemble import GradientBoostingRegressor"
   ]
  },
  {
   "cell_type": "markdown",
   "metadata": {},
   "source": [
    "Let's compare sklearn's `GradientBoostingRegressor` to `RandomForestRegressor` for different values of `n_estimators`."
   ]
  },
  {
   "cell_type": "code",
   "execution_count": 19,
   "metadata": {},
   "outputs": [],
   "source": [
    "n_estimators_values = [3, 10, 30, 100, 300]"
   ]
  },
  {
   "cell_type": "code",
   "execution_count": 20,
   "metadata": {},
   "outputs": [
    {
     "name": "stdout",
     "output_type": "stream",
     "text": [
      "3\n",
      "10\n",
      "30\n",
      "100\n",
      "300\n"
     ]
    }
   ],
   "source": [
    "score_rf_train = list()\n",
    "score_rf_test = list()\n",
    "score_gb_train = list()\n",
    "score_gb_test = list()\n",
    "\n",
    "for n_estimators in n_estimators_values:\n",
    "    print(n_estimators)\n",
    "    rf = TransformedTargetRegressor(\n",
    "        RandomForestRegressor(n_estimators=n_estimators, random_state=123), \n",
    "        func=np.log1p, inverse_func=np.expm1)    \n",
    "    rf.fit(X_train_housing, y_train)\n",
    "    score_rf_train.append(rf.score(X_train_housing, y_train))\n",
    "    score_rf_test.append(rf.score(X_test_housing, y_test))\n",
    "    \n",
    "    gb = TransformedTargetRegressor(\n",
    "        GradientBoostingRegressor(n_estimators=n_estimators, random_state=123),\n",
    "        func=np.log1p, inverse_func=np.expm1)\n",
    "    gb.fit(X_train_housing, y_train)\n",
    "    score_gb_train.append(gb.score(X_train_housing, y_train))\n",
    "    score_gb_test.append(gb.score(X_test_housing, y_test))"
   ]
  },
  {
   "cell_type": "markdown",
   "metadata": {},
   "source": [
    "Here is a low-quality plot that is confusing and perhaps downright misleading:"
   ]
  },
  {
   "cell_type": "code",
   "execution_count": 21,
   "metadata": {},
   "outputs": [
    {
     "data": {
      "image/png": "[encoded data removed]",
      "text/plain": [
       "<Figure size 432x288 with 2 Axes>"
      ]
     },
     "metadata": {
      "needs_background": "light"
     },
     "output_type": "display_data"
    }
   ],
   "source": [
    "plt.subplot(2,1,1)\n",
    "plt.plot(n_estimators_values, score_rf_train, label=\"rf train\")\n",
    "plt.plot(n_estimators_values, score_rf_test,  label=\"rf test\")\n",
    "plt.ylabel(\"$R^2$ score\");\n",
    "plt.legend();\n",
    "plt.subplot(2,1,2)\n",
    "plt.plot(n_estimators_values, score_gb_train, label=\"gb train\")\n",
    "plt.plot(n_estimators_values, score_gb_test,  label=\"gb test\")\n",
    "plt.xlabel(\"n estimators\");\n",
    "plt.ylabel(\"$R^2$ score\");\n",
    "plt.legend();\n",
    "plt.tight_layout();"
   ]
  },
  {
   "cell_type": "markdown",
   "metadata": {},
   "source": [
    "Your task is to do ONE (or more if you have time) of the following: \n",
    "\n",
    "- Create a visualization that makes RF look better than GB.\n",
    "- Create a visualization that makes GB look better than RF.\n",
    "- Create a visualization that makes RF and GB look equally good.\n",
    "\n",
    "When you have a visualization, copy or screenshot it and paste it into the Google Doc."
   ]
  },
  {
   "cell_type": "markdown",
   "metadata": {},
   "source": [
    "Below are my plots made during the activity:"
   ]
  },
  {
   "cell_type": "markdown",
   "metadata": {},
   "source": [
    "#### RF better than GB"
   ]
  },
  {
   "cell_type": "code",
   "execution_count": 22,
   "metadata": {},
   "outputs": [
    {
     "data": {
      "image/png": "[encoded data removed]",
      "text/plain": [
       "<Figure size 432x288 with 1 Axes>"
      ]
     },
     "metadata": {
      "needs_background": "light"
     },
     "output_type": "display_data"
    }
   ],
   "source": [
    "nmax = 3\n",
    "\n",
    "# plt.plot(n_estimators_values[:nmax], score_rf_train[:nmax], label=\"rf train\")\n",
    "plt.plot(n_estimators_values[:nmax], score_rf_test[:nmax],  label=\"rf test\")\n",
    "# plt.plot(n_estimators_values[:nmax], score_gb_train[:nmax], label=\"gb train\")\n",
    "plt.plot(n_estimators_values[:nmax], score_gb_test[:nmax],  label=\"gb test\")\n",
    "plt.xlabel(\"n estimators\");\n",
    "plt.ylabel(\"$R^2$ score\");\n",
    "plt.legend();\n",
    "plt.title(\"for most values of n_estimators, RF is betteR!!\");"
   ]
  },
  {
   "cell_type": "markdown",
   "metadata": {},
   "source": [
    "#### GB better than RF"
   ]
  },
  {
   "cell_type": "code",
   "execution_count": 23,
   "metadata": {},
   "outputs": [
    {
     "data": {
      "image/png": "[encoded data removed]",
      "text/plain": [
       "<Figure size 432x288 with 1 Axes>"
      ]
     },
     "metadata": {
      "needs_background": "light"
     },
     "output_type": "display_data"
    }
   ],
   "source": [
    "# plt.plot(n_estimators_values, score_rf_train, label=\"rf train\")\n",
    "plt.plot(n_estimators_values, score_rf_test,  label=\"rf test\")\n",
    "# plt.ylabel(\"$R^2$ score\");\n",
    "# plt.legend();\n",
    "# plt.subplot(2,1,2)\n",
    "# plt.plot(n_estimators_values, score_gb_train, label=\"gb train\")\n",
    "plt.plot(n_estimators_values, score_gb_test,  label=\"gb test\")\n",
    "plt.xlabel(\"n estimators\");\n",
    "plt.ylabel(\"$R^2$ score\");\n",
    "plt.legend();\n",
    "plt.title(\"GB FTW!!!\");"
   ]
  },
  {
   "cell_type": "markdown",
   "metadata": {},
   "source": [
    "#### Equally good"
   ]
  },
  {
   "cell_type": "code",
   "execution_count": 24,
   "metadata": {},
   "outputs": [
    {
     "data": {
      "image/png": "[encoded data removed]",
      "text/plain": [
       "<Figure size 432x288 with 2 Axes>"
      ]
     },
     "metadata": {
      "needs_background": "light"
     },
     "output_type": "display_data"
    }
   ],
   "source": [
    "nmax = 2\n",
    "\n",
    "# plt.plot(n_estimators_values, score_rf_train, label=\"rf train\")\n",
    "plt.plot(n_estimators_values[:nmax], score_rf_test[:nmax], 'b', label=\"rf test\")\n",
    "plt.ylabel(\"RF $R^2$ score\");\n",
    "plt.legend(loc=\"lower left\");\n",
    "plt.ylim((0.8, 0.9))\n",
    "plt.twinx()\n",
    "# plt.plot(n_estimators_values, score_gb_train, label=\"gb train\")\n",
    "plt.plot(n_estimators_values[:nmax], score_gb_test[:nmax], '--r', label=\"gb test\")\n",
    "plt.xlabel(\"n estimators\");\n",
    "plt.ylabel(\"GB $R^2$ score\");\n",
    "plt.legend();\n",
    "plt.ylim((-0.03, 0.98))\n",
    "plt.title(\"Both equally good!!!\");"
   ]
  }
 ],
 "metadata": {
  "celltoolbar": "Slideshow",
  "kernelspec": {
   "display_name": "Python [conda env:cpsc330]",
   "language": "python",
   "name": "conda-env-cpsc330-py"
  },
  "language_info": {
   "codemirror_mode": {
    "name": "ipython",
    "version": 3
   },
   "file_extension": ".py",
   "mimetype": "text/x-python",
   "name": "python",
   "nbconvert_exporter": "python",
   "pygments_lexer": "ipython3",
   "version": "3.9.7"
  }
 },
 "nbformat": 4,
 "nbformat_minor": 4
}
