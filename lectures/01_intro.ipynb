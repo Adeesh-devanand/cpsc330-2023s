{
 "cells": [
  {
   "cell_type": "markdown",
   "id": "f66498aa-0b96-4bb2-9744-e9e1232dd21b",
   "metadata": {},
   "source": [
    "![](img/330-banner.png)"
   ]
  },
  {
   "cell_type": "markdown",
   "id": "11e19500-5b1a-47d4-929f-a4e4db5fe3b6",
   "metadata": {},
   "source": [
    "# Lecture 1: Course Introduction \n",
    "\n",
    "UBC 2021-22\n",
    "\n",
    "Instructor: Varada Kolhatkar"
   ]
  },
  {
   "cell_type": "markdown",
   "id": "f371b587-97b2-4fa1-8260-90458a91ee10",
   "metadata": {
    "slideshow": {
     "slide_type": "skip"
    }
   },
   "source": [
    "## Imports"
   ]
  },
  {
   "cell_type": "code",
   "execution_count": 1,
   "id": "05be1ee9-5aa2-4b6c-9b20-ccb6d482a60a",
   "metadata": {
    "slideshow": {
     "slide_type": "skip"
    }
   },
   "outputs": [],
   "source": [
    "import glob\n",
    "import os\n",
    "import re\n",
    "import sys\n",
    "\n",
    "import matplotlib.pyplot as plt\n",
    "import numpy as np\n",
    "import pandas as pd\n",
    "\n",
    "sys.path.append(\"code/.\")\n",
    "import graphviz\n",
    "import IPython\n",
    "import mglearn\n",
    "from IPython.display import HTML, display\n",
    "from plotting_functions import *\n",
    "from sklearn.dummy import DummyClassifier\n",
    "from sklearn.feature_extraction.text import CountVectorizer\n",
    "from sklearn.linear_model import LinearRegression, LogisticRegression\n",
    "from sklearn.model_selection import train_test_split\n",
    "from sklearn.pipeline import Pipeline, make_pipeline\n",
    "from sklearn.tree import DecisionTreeClassifier, DecisionTreeRegressor, export_graphviz\n",
    "from utils import *\n",
    "\n",
    "plt.rcParams[\"font.size\"] = 16\n",
    "pd.set_option(\"display.max_colwidth\", 200)"
   ]
  },
  {
   "cell_type": "markdown",
   "id": "21fab386-d11d-4f52-8316-0fe7498dec04",
   "metadata": {
    "slideshow": {
     "slide_type": "skip"
    }
   },
   "source": [
    "## Learning outcomes \n",
    "From this lecture, you will be able to \n",
    "\n",
    "- explain the motivation to study machine learning;\n",
    "- explain supervised machine learning; \n",
    "- navigate through the course material;\n",
    "- be familiar with the policies and how the class is going to run; \n",
    "- set up your computer for the course. "
   ]
  },
  {
   "cell_type": "markdown",
   "id": "eff2184c-6a3e-45d6-9316-b9c4567052da",
   "metadata": {},
   "source": [
    "<br><br>"
   ]
  },
  {
   "cell_type": "markdown",
   "id": "6f9ca4dc-ab55-4b0f-b726-18ed20af547b",
   "metadata": {
    "slideshow": {
     "slide_type": "slide"
    }
   },
   "source": [
    "## Characters in this course? \n",
    "\n",
    "- CPSC 330 teaching staff (me and the TAs)\n",
    "- Eva (a fictitious enthusiastic student)\n",
    "- And you all, of course 🙂! "
   ]
  },
  {
   "cell_type": "markdown",
   "id": "69ba0b97-a00e-4785-a19f-e8ed8d033687",
   "metadata": {
    "slideshow": {
     "slide_type": "slide"
    }
   },
   "source": [
    "### Meet your CPSC 330 instructor\n",
    "\n",
    "<img src=\"img/profile.png\" height=\"300\" width=\"300\">\n",
    "    \n",
    "- I am Varada Kolhatkar [[ʋəɾəda kɔːlɦəʈkər](https://en.wikipedia.org/wiki/International_Phonetic_Alphabet)]\n",
    "- You can call me Varada. If Varada is hard for you, you can call me **V** or **Ada**.\n",
    "- I am an Assistant Professor of Teaching in Computer Science.\n",
    "- I did my Ph.D. in Computational Linguistics at the University of Toronto. \n",
    "- I primarily teach machine learning courses in the [Master of Data Science (MDS) program](https://masterdatascience.ubc.ca/). \n",
    "- Mike Gelbart has designed this course, this is my first time teaching it. \n",
    "- Contact information\n",
    "    - Email: kvarada@cs.ubc.ca\n",
    "    - Office: ICCS 237"
   ]
  },
  {
   "cell_type": "markdown",
   "id": "10c187e7-328f-42e3-896d-42d8bf176d0f",
   "metadata": {
    "slideshow": {
     "slide_type": "slide"
    }
   },
   "source": [
    "## Meet CPSC 330 TAs\n",
    "|               |                               |\n",
    "| :--------------------------------------- | :-----------------   | \n",
    "| <img src=\"img/gaurav.jpg\" alt=\"Gaurav\" class=\"bg-primary\" width=\"600px\"/>| [**Gaurav Bhatt**](http://deeplearn-ai.com/about-3) Gaurav is a PhD-track student at UBC computer science. He graduated from IIT-Roorkee, India where he worked on deep learning models for computer vision and NLP. He also worked in IIT-Hyderabad as a research assistant where his research focused on transfer learning, disentanglement, few-shot and representation learning.| \n",
    "|<img src=\"img/Brie.png\" alt=\"Brie\" class=\"bg-primary\" width=\"600px\"/> | **Brianna (Brie) Dungate** is a Computational Neuroscience student. She is in her 4th year of an Honours Computer Science degree at UBC. Her research focuses on memory, learning, and neurodegeneration. She is also the proud mom of an 11 year old rescue pup named Jake. Read a bit more about Brie [here](https://www.cs.ubc.ca/news/2021/06/inaugural-bill-aiello-award-goes-two-outstanding-students).|\n",
    "| <img src=\"img/rubia.png\" alt=\"Rubia\" class=\"bg-primary\" width=\"600px\"/> |[**Rúbia Guerra**](https://dfp.ubc.ca/people/trainees/rubia-guerra) is currently a Master’s student at UBC Computer Science. She received a BSc. in Systems Engineering from the Federal University of Minas Gerais (Brazil) in 2019, where she worked with the Machine Intelligence and Data Science Lab, researching about automatic sign language translation."
   ]
  },
  {
   "cell_type": "markdown",
   "id": "eb3c8da9-d09e-4830-8a3e-296067ec24c4",
   "metadata": {
    "jp-MarkdownHeadingCollapsed": true,
    "slideshow": {
     "slide_type": "slide"
    },
    "tags": []
   },
   "source": [
    "### Meet Eva (a fictitious persona)!\n",
    "\n",
    "![](img/eva-hi.png)\n",
    "\n",
    "Eva is among one of you. She has some experience in Python programming. She knows machine learning as a buzz word. During her recent internship, she has developed some interest and curiosity in the field. She wants to learn what is it and how to use it. She is a curious person and usually has a lot of questions!  "
   ]
  },
  {
   "cell_type": "markdown",
   "id": "b6b249a4-ba67-4a48-b86f-68eedf51296a",
   "metadata": {
    "slideshow": {
     "slide_type": "slide"
    }
   },
   "source": [
    "### You all\n",
    "\n",
    "- Since we're going to spend the semester with each other, I would like to know you a bit better. \n",
    "- Please fill out [Getting to know you survey](https://canvas.ubc.ca/courses/78046/quizzes) when you get a chance. "
   ]
  },
  {
   "cell_type": "markdown",
   "id": "94284d57-498d-4b7d-802a-0510f508766c",
   "metadata": {
    "slideshow": {
     "slide_type": "slide"
    }
   },
   "source": [
    "- Go to our course webpage: \n",
    "\n",
    "> https://github.com/UBC-CS/cpsc330\n",
    "\n",
    "- Follow the link to Course Jupyter book\n",
    "\n",
    "> https://ubc-cs.github.io/cpsc330\n",
    "\n",
    "You'll see the lecture notes rendered as an html there. "
   ]
  },
  {
   "cell_type": "markdown",
   "id": "7d2bc95e-1b7d-4dcd-b0f6-1bb6238763e3",
   "metadata": {
    "slideshow": {
     "slide_type": "skip"
    }
   },
   "source": [
    "```{admonition} Attention!!\n",
    ":class: important\n",
    "You are welcome to ask questions by raising your hand.\n",
    "For each class, I also plan to create a Google doc for your questions/comments. [Here](https://docs.google.com/document/d/1SaQ1Osw6kqtMnt32SHQJPMnPiuTGY57lKDZvXB79TpY/edit?usp=sharing) is the Google doc for today's lecture! \n",
    "```"
   ]
  }
 ],
 "metadata": {
  "kernelspec": {
   "display_name": "Python [conda env:cpsc330]",
   "language": "python",
   "name": "conda-env-cpsc330-py"
  },
  "language_info": {
   "codemirror_mode": {
    "name": "ipython",
    "version": 3
   },
   "file_extension": ".py",
   "mimetype": "text/x-python",
   "name": "python",
   "nbconvert_exporter": "python",
   "pygments_lexer": "ipython3",
   "version": "3.9.7"
  }
 },
 "nbformat": 4,
 "nbformat_minor": 5
}
