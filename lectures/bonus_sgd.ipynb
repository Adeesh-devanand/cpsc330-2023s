{
 "cells": [
  {
   "cell_type": "code",
   "execution_count": 1,
   "metadata": {
    "slideshow": {
     "slide_type": "skip"
    }
   },
   "outputs": [],
   "source": [
    "import numpy as np\n",
    "import pandas as pd\n",
    "import matplotlib.pyplot as plt"
   ]
  },
  {
   "cell_type": "code",
   "execution_count": 2,
   "metadata": {},
   "outputs": [],
   "source": [
    "plt.rcParams['font.size'] = 16"
   ]
  },
  {
   "cell_type": "code",
   "execution_count": 3,
   "metadata": {},
   "outputs": [],
   "source": [
    "from sklearn.linear_model import Ridge, LogisticRegression, SGDClassifier, SGDRegressor\n",
    "from sklearn.dummy import DummyClassifier, DummyRegressor\n",
    "from sklearn.model_selection import train_test_split, GridSearchCV\n",
    "from sklearn.feature_extraction.text import CountVectorizer"
   ]
  },
  {
   "cell_type": "markdown",
   "metadata": {},
   "source": [
    "## Big data sets: `SGDClassifier` and `SGDRegressor` (15 min)"
   ]
  },
  {
   "cell_type": "markdown",
   "metadata": {},
   "source": [
    "- Something we haven't discussed in this course is huge data sets.\n",
    "- There could be a couple problems arising from huge data sets:\n",
    "\n",
    "1. The code is too slow.\n",
    "2. The dataset doesn't fit in memory - I can't even load it with `pd.read_csv`. "
   ]
  },
  {
   "cell_type": "markdown",
   "metadata": {},
   "source": [
    "Simplest strategy: subset your data for experimentation / hyperparameter tuning, then train your final model on the whole dataset (once)."
   ]
  },
  {
   "cell_type": "markdown",
   "metadata": {},
   "source": [
    "- \"SGD\" (stochastic gradient descent) can help with both of these problems.\n",
    "- But we'll focus on using it to solve problem (1).\n",
    "- There is a fancy way to implement `fit` that can be a lot faster for big data sets.\n",
    "  - You can think of it as quickly finding \"approximately\" the best coefficients when calling `fit`.\n",
    "  - That is not quite true but it may be a useful way of thinking.\n",
    "  - Much more on this in CPSC 340 and much, much more on this in CPSC 440/540."
   ]
  },
  {
   "cell_type": "markdown",
   "metadata": {},
   "source": [
    "- SGD can be used in many contexts.\n",
    "- In sklearn, it's built in as follows:"
   ]
  },
  {
   "cell_type": "code",
   "execution_count": 4,
   "metadata": {},
   "outputs": [],
   "source": [
    "from sklearn.linear_model import SGDClassifier, SGDRegressor"
   ]
  },
  {
   "cell_type": "markdown",
   "metadata": {},
   "source": [
    "- `SGDRegressor` is basically equivalent to `Ridge`.\n",
    "- `SGDRegressor(loss='huber')` is basically equivalent to `HuberRegressor`.\n",
    "- `SGDClassifier(loss='log')` is basically equivalent to `LogisticRegression`, except the parameter is called `alpha` instead of `C` (like `Ridge`).\n",
    "- With other settings they are equivalent to other models, but this is good enough."
   ]
  },
  {
   "cell_type": "markdown",
   "metadata": {},
   "source": [
    "- For regular sized datasets, use the original functions, as these ones can be a bit more finicky. "
   ]
  },
  {
   "cell_type": "markdown",
   "metadata": {},
   "source": [
    "Let's load the [Sentiment140 dataset](http://help.sentiment140.com/home), which contains tweets labeled with sentiment associated with a brand, product, or topic. (I don't think we've looked at this dataset before - using it here because it's large.) You can download the data from [here](https://www.kaggle.com/ferno2/training1600000processednoemoticoncsv)."
   ]
  },
  {
   "cell_type": "code",
   "execution_count": 5,
   "metadata": {},
   "outputs": [],
   "source": [
    "tweets_df = pd.read_csv('data/training.1600000.processed.noemoticon.csv', \n",
    "                        encoding = \"ISO-8859-1\",\n",
    "                        names=[\"label\",\"id\", \"date\", \"no_query\", \"name\", \"text\"])\n",
    "tweets_df['label'] = tweets_df['label'].map({0: 'neg', 4: 'pos'})\n",
    "tweets_df = tweets_df[tweets_df['label'].str.startswith(('pos','neg'))]"
   ]
  },
  {
   "cell_type": "code",
   "execution_count": 6,
   "metadata": {},
   "outputs": [],
   "source": [
    "tweets_df_train, tweets_df_test = train_test_split(tweets_df)"
   ]
  },
  {
   "cell_type": "code",
   "execution_count": 7,
   "metadata": {},
   "outputs": [
    {
     "data": {
      "text/html": [
       "<div>\n",
       "<style scoped>\n",
       "    .dataframe tbody tr th:only-of-type {\n",
       "        vertical-align: middle;\n",
       "    }\n",
       "\n",
       "    .dataframe tbody tr th {\n",
       "        vertical-align: top;\n",
       "    }\n",
       "\n",
       "    .dataframe thead th {\n",
       "        text-align: right;\n",
       "    }\n",
       "</style>\n",
       "<table border=\"1\" class=\"dataframe\">\n",
       "  <thead>\n",
       "    <tr style=\"text-align: right;\">\n",
       "      <th></th>\n",
       "      <th>label</th>\n",
       "      <th>id</th>\n",
       "      <th>date</th>\n",
       "      <th>no_query</th>\n",
       "      <th>name</th>\n",
       "      <th>text</th>\n",
       "    </tr>\n",
       "  </thead>\n",
       "  <tbody>\n",
       "    <tr>\n",
       "      <th>843953</th>\n",
       "      <td>pos</td>\n",
       "      <td>1563972514</td>\n",
       "      <td>Mon Apr 20 01:07:37 PDT 2009</td>\n",
       "      <td>NO_QUERY</td>\n",
       "      <td>JuanMoon</td>\n",
       "      <td>@JessLoebig this city is ridiculous lol... jk....</td>\n",
       "    </tr>\n",
       "    <tr>\n",
       "      <th>1134521</th>\n",
       "      <td>pos</td>\n",
       "      <td>1976350370</td>\n",
       "      <td>Sat May 30 17:08:07 PDT 2009</td>\n",
       "      <td>NO_QUERY</td>\n",
       "      <td>MJJNews</td>\n",
       "      <td>@Lex_DH  Marvin Gaye, Stevie Wonder, anything ...</td>\n",
       "    </tr>\n",
       "    <tr>\n",
       "      <th>303843</th>\n",
       "      <td>neg</td>\n",
       "      <td>1999580980</td>\n",
       "      <td>Mon Jun 01 20:28:06 PDT 2009</td>\n",
       "      <td>NO_QUERY</td>\n",
       "      <td>leeandradex3</td>\n",
       "      <td>@tommcfly of you in my computer, LOL please an...</td>\n",
       "    </tr>\n",
       "    <tr>\n",
       "      <th>337900</th>\n",
       "      <td>neg</td>\n",
       "      <td>2014312351</td>\n",
       "      <td>Wed Jun 03 01:06:53 PDT 2009</td>\n",
       "      <td>NO_QUERY</td>\n",
       "      <td>MizpahMijares</td>\n",
       "      <td>my right eye hurts with my contact lense,so i ...</td>\n",
       "    </tr>\n",
       "    <tr>\n",
       "      <th>215700</th>\n",
       "      <td>neg</td>\n",
       "      <td>1975543678</td>\n",
       "      <td>Sat May 30 15:22:56 PDT 2009</td>\n",
       "      <td>NO_QUERY</td>\n",
       "      <td>KtShortcake</td>\n",
       "      <td>how do I load a profile pic, it keeps telling ...</td>\n",
       "    </tr>\n",
       "  </tbody>\n",
       "</table>\n",
       "</div>"
      ],
      "text/plain": [
       "        label          id                          date  no_query  \\\n",
       "843953    pos  1563972514  Mon Apr 20 01:07:37 PDT 2009  NO_QUERY   \n",
       "1134521   pos  1976350370  Sat May 30 17:08:07 PDT 2009  NO_QUERY   \n",
       "303843    neg  1999580980  Mon Jun 01 20:28:06 PDT 2009  NO_QUERY   \n",
       "337900    neg  2014312351  Wed Jun 03 01:06:53 PDT 2009  NO_QUERY   \n",
       "215700    neg  1975543678  Sat May 30 15:22:56 PDT 2009  NO_QUERY   \n",
       "\n",
       "                  name                                               text  \n",
       "843953        JuanMoon  @JessLoebig this city is ridiculous lol... jk....  \n",
       "1134521        MJJNews  @Lex_DH  Marvin Gaye, Stevie Wonder, anything ...  \n",
       "303843    leeandradex3  @tommcfly of you in my computer, LOL please an...  \n",
       "337900   MizpahMijares  my right eye hurts with my contact lense,so i ...  \n",
       "215700     KtShortcake  how do I load a profile pic, it keeps telling ...  "
      ]
     },
     "execution_count": 7,
     "metadata": {},
     "output_type": "execute_result"
    }
   ],
   "source": [
    "tweets_df_train.head()"
   ]
  },
  {
   "cell_type": "code",
   "execution_count": 8,
   "metadata": {},
   "outputs": [
    {
     "data": {
      "text/plain": [
       "(1200000, 6)"
      ]
     },
     "execution_count": 8,
     "metadata": {},
     "output_type": "execute_result"
    }
   ],
   "source": [
    "tweets_df_train.shape"
   ]
  },
  {
   "cell_type": "markdown",
   "metadata": {},
   "source": [
    "Holy cow!"
   ]
  },
  {
   "cell_type": "code",
   "execution_count": 9,
   "metadata": {},
   "outputs": [],
   "source": [
    "vec = CountVectorizer(stop_words='english')\n",
    "\n",
    "X_train = vec.fit_transform(tweets_df_train['text']) \n",
    "y_train = tweets_df_train['label']\n",
    "\n",
    "X_test = vec.transform(tweets_df_test['text']) \n",
    "y_test = tweets_df_test['label']"
   ]
  },
  {
   "cell_type": "code",
   "execution_count": 10,
   "metadata": {},
   "outputs": [
    {
     "data": {
      "text/plain": [
       "(1200000, 563780)"
      ]
     },
     "execution_count": 10,
     "metadata": {},
     "output_type": "execute_result"
    }
   ],
   "source": [
    "X_train.shape"
   ]
  },
  {
   "cell_type": "code",
   "execution_count": 11,
   "metadata": {},
   "outputs": [
    {
     "data": {
      "text/plain": [
       "scipy.sparse.csr.csr_matrix"
      ]
     },
     "execution_count": 11,
     "metadata": {},
     "output_type": "execute_result"
    }
   ],
   "source": [
    "type(X_train)"
   ]
  },
  {
   "cell_type": "markdown",
   "metadata": {},
   "source": [
    "Here is the fraction of elements that are nonzero. Having a sparse matrix really helps!!"
   ]
  },
  {
   "cell_type": "code",
   "execution_count": 12,
   "metadata": {},
   "outputs": [
    {
     "data": {
      "text/plain": [
       "1.2347450837797249e-05"
      ]
     },
     "execution_count": 12,
     "metadata": {},
     "output_type": "execute_result"
    }
   ],
   "source": [
    "X_train.nnz/np.prod(X_train.shape)"
   ]
  },
  {
   "cell_type": "markdown",
   "metadata": {},
   "source": [
    "Now let's train a classifier. I'll use `time` instead of `%timeit` because I want to keep the output, and it gets lost with `%timeit`."
   ]
  },
  {
   "cell_type": "code",
   "execution_count": 13,
   "metadata": {},
   "outputs": [
    {
     "name": "stderr",
     "output_type": "stream",
     "text": [
      "/opt/miniconda3/envs/cpsc330env/lib/python3.8/site-packages/sklearn/dummy.py:131: FutureWarning: The default value of strategy will change from stratified to prior in 0.24.\n",
      "  warnings.warn(\"The default value of strategy will change from \"\n"
     ]
    },
    {
     "data": {
      "text/plain": [
       "0.5002458333333333"
      ]
     },
     "execution_count": 13,
     "metadata": {},
     "output_type": "execute_result"
    }
   ],
   "source": [
    "dc = DummyClassifier()\n",
    "dc.fit(X_train, y_train)\n",
    "dc.score(X_train, y_train)"
   ]
  },
  {
   "cell_type": "code",
   "execution_count": 14,
   "metadata": {},
   "outputs": [],
   "source": [
    "lr = LogisticRegression()"
   ]
  },
  {
   "cell_type": "code",
   "execution_count": 15,
   "metadata": {},
   "outputs": [
    {
     "name": "stdout",
     "output_type": "stream",
     "text": [
      "CPU times: user 2min 35s, sys: 5.26 s, total: 2min 40s\n",
      "Wall time: 24.5 s\n"
     ]
    },
    {
     "name": "stderr",
     "output_type": "stream",
     "text": [
      "/opt/miniconda3/envs/cpsc330env/lib/python3.8/site-packages/sklearn/linear_model/_logistic.py:762: ConvergenceWarning: lbfgs failed to converge (status=1):\n",
      "STOP: TOTAL NO. of ITERATIONS REACHED LIMIT.\n",
      "\n",
      "Increase the number of iterations (max_iter) or scale the data as shown in:\n",
      "    https://scikit-learn.org/stable/modules/preprocessing.html\n",
      "Please also refer to the documentation for alternative solver options:\n",
      "    https://scikit-learn.org/stable/modules/linear_model.html#logistic-regression\n",
      "  n_iter_i = _check_optimize_result(\n"
     ]
    },
    {
     "data": {
      "text/plain": [
       "LogisticRegression()"
      ]
     },
     "execution_count": 15,
     "metadata": {},
     "output_type": "execute_result"
    }
   ],
   "source": [
    "%time lr.fit(X_train, y_train);"
   ]
  },
  {
   "cell_type": "code",
   "execution_count": 16,
   "metadata": {},
   "outputs": [
    {
     "data": {
      "text/plain": [
       "0.81016"
      ]
     },
     "execution_count": 16,
     "metadata": {},
     "output_type": "execute_result"
    }
   ],
   "source": [
    "lr.score(X_train, y_train)"
   ]
  },
  {
   "cell_type": "code",
   "execution_count": 17,
   "metadata": {},
   "outputs": [
    {
     "data": {
      "text/plain": [
       "0.7765725"
      ]
     },
     "execution_count": 17,
     "metadata": {},
     "output_type": "execute_result"
    }
   ],
   "source": [
    "lr.score(X_test, y_test)"
   ]
  },
  {
   "cell_type": "code",
   "execution_count": 18,
   "metadata": {},
   "outputs": [
    {
     "data": {
      "text/plain": [
       "array([100], dtype=int32)"
      ]
     },
     "execution_count": 18,
     "metadata": {},
     "output_type": "execute_result"
    }
   ],
   "source": [
    "lr.n_iter_"
   ]
  },
  {
   "cell_type": "code",
   "execution_count": 19,
   "metadata": {},
   "outputs": [],
   "source": [
    "lr_sgd = SGDClassifier(loss=\"log\")"
   ]
  },
  {
   "cell_type": "code",
   "execution_count": 20,
   "metadata": {},
   "outputs": [
    {
     "name": "stdout",
     "output_type": "stream",
     "text": [
      "CPU times: user 5.03 s, sys: 85.6 ms, total: 5.11 s\n",
      "Wall time: 3.83 s\n"
     ]
    },
    {
     "data": {
      "text/plain": [
       "SGDClassifier(loss='log')"
      ]
     },
     "execution_count": 20,
     "metadata": {},
     "output_type": "execute_result"
    }
   ],
   "source": [
    "%time lr_sgd.fit(X_train, y_train);"
   ]
  },
  {
   "cell_type": "code",
   "execution_count": 21,
   "metadata": {},
   "outputs": [
    {
     "data": {
      "text/plain": [
       "7"
      ]
     },
     "execution_count": 21,
     "metadata": {},
     "output_type": "execute_result"
    }
   ],
   "source": [
    "lr_sgd.n_iter_"
   ]
  },
  {
   "cell_type": "code",
   "execution_count": 22,
   "metadata": {},
   "outputs": [
    {
     "data": {
      "text/plain": [
       "0.769875"
      ]
     },
     "execution_count": 22,
     "metadata": {},
     "output_type": "execute_result"
    }
   ],
   "source": [
    "lr_sgd.score(X_train, y_train)"
   ]
  },
  {
   "cell_type": "code",
   "execution_count": 23,
   "metadata": {},
   "outputs": [
    {
     "data": {
      "text/plain": [
       "0.76577"
      ]
     },
     "execution_count": 23,
     "metadata": {},
     "output_type": "execute_result"
    }
   ],
   "source": [
    "lr_sgd.score(X_test, y_test)"
   ]
  },
  {
   "cell_type": "markdown",
   "metadata": {},
   "source": [
    "# TODO\n",
    "\n",
    "think about the `C` and `alpha` hyperparameters"
   ]
  },
  {
   "cell_type": "markdown",
   "metadata": {},
   "source": [
    "- `SGDClassifier` was about 10x faster than `LogisticRegression`, but the accuracy is slightly lower.\n",
    "- In fact, we can control the speed vs. _train_ accuracy tradeoff in both cases using the hyperparameters.\n",
    "  - The main ones are `max_iter` (higher is slower) and/or `tol` (lower is slower)\n",
    "  - (This is the same for both `LogisticRegression` and `SGDClassifier`)\n",
    "  - This is analogous to `n_iter` in `RandomizedSearchCV` !\n",
    "- In general, `LogisticRegression` will get slightly higher _train_ accuracy (may or may not correspond to better validation/test)\n",
    "- But in some cases your dataset is so big that `LogisticRegression` is not feasible, and then `SGDClassifier` can save the day."
   ]
  },
  {
   "cell_type": "code",
   "execution_count": 24,
   "metadata": {},
   "outputs": [
    {
     "name": "stderr",
     "output_type": "stream",
     "text": [
      "/opt/miniconda3/envs/cpsc330env/lib/python3.8/site-packages/sklearn/utils/deprecation.py:143: FutureWarning: The sklearn.utils.testing module is  deprecated in version 0.22 and will be removed in version 0.24. The corresponding classes / functions should instead be imported from sklearn.utils. Anything that cannot be imported from sklearn.utils is now part of the private API.\n",
      "  warnings.warn(message, FutureWarning)\n"
     ]
    },
    {
     "name": "stdout",
     "output_type": "stream",
     "text": [
      "Fitting 2 folds for each of 4 candidates, totalling 8 fits\n"
     ]
    },
    {
     "name": "stderr",
     "output_type": "stream",
     "text": [
      "[Parallel(n_jobs=-1)]: Using backend LokyBackend with 8 concurrent workers.\n",
      "[Parallel(n_jobs=-1)]: Done   3 out of   8 | elapsed:   15.4s remaining:   25.7s\n",
      "[Parallel(n_jobs=-1)]: Done   8 out of   8 | elapsed:   27.1s remaining:    0.0s\n",
      "[Parallel(n_jobs=-1)]: Done   8 out of   8 | elapsed:   27.1s finished\n"
     ]
    }
   ],
   "source": [
    "# from https://scikit-learn.org/stable/auto_examples/linear_model/plot_sgd_early_stopping.html#sphx-glr-auto-examples-linear-model-plot-sgd-early-stopping-py\n",
    "\n",
    "from sklearn.utils.testing import ignore_warnings\n",
    "from sklearn.exceptions import ConvergenceWarning\n",
    "\n",
    "@ignore_warnings(category=ConvergenceWarning)\n",
    "def fit_grid_search_lr(iters):\n",
    "    grid_search_lr = GridSearchCV(LogisticRegression(), {\"max_iter\" : iters}, return_train_score=True, verbose=2, cv=2, n_jobs=-1)\n",
    "    # n_jobs=-1 might mess up the timing a bit but otherwise it takes too long\n",
    "    grid_search_lr.fit(X_train, y_train)\n",
    "    return grid_search_lr\n",
    "    \n",
    "grid_search_lr = fit_grid_search_lr([3, 10, 30, 100])"
   ]
  },
  {
   "cell_type": "code",
   "execution_count": 25,
   "metadata": {},
   "outputs": [
    {
     "data": {
      "text/html": [
       "<div>\n",
       "<style scoped>\n",
       "    .dataframe tbody tr th:only-of-type {\n",
       "        vertical-align: middle;\n",
       "    }\n",
       "\n",
       "    .dataframe tbody tr th {\n",
       "        vertical-align: top;\n",
       "    }\n",
       "\n",
       "    .dataframe thead th {\n",
       "        text-align: right;\n",
       "    }\n",
       "</style>\n",
       "<table border=\"1\" class=\"dataframe\">\n",
       "  <thead>\n",
       "    <tr style=\"text-align: right;\">\n",
       "      <th></th>\n",
       "      <th>mean_fit_time</th>\n",
       "      <th>std_fit_time</th>\n",
       "      <th>mean_score_time</th>\n",
       "      <th>std_score_time</th>\n",
       "      <th>param_max_iter</th>\n",
       "      <th>params</th>\n",
       "      <th>split0_test_score</th>\n",
       "      <th>split1_test_score</th>\n",
       "      <th>mean_test_score</th>\n",
       "      <th>std_test_score</th>\n",
       "      <th>rank_test_score</th>\n",
       "      <th>split0_train_score</th>\n",
       "      <th>split1_train_score</th>\n",
       "      <th>mean_train_score</th>\n",
       "      <th>std_train_score</th>\n",
       "    </tr>\n",
       "  </thead>\n",
       "  <tbody>\n",
       "    <tr>\n",
       "      <th>0</th>\n",
       "      <td>6.140643</td>\n",
       "      <td>0.085187</td>\n",
       "      <td>3.163987</td>\n",
       "      <td>0.017652</td>\n",
       "      <td>3</td>\n",
       "      <td>{'max_iter': 3}</td>\n",
       "      <td>0.675703</td>\n",
       "      <td>0.676132</td>\n",
       "      <td>0.675917</td>\n",
       "      <td>0.000214</td>\n",
       "      <td>4</td>\n",
       "      <td>0.676423</td>\n",
       "      <td>0.676437</td>\n",
       "      <td>0.676430</td>\n",
       "      <td>0.000007</td>\n",
       "    </tr>\n",
       "    <tr>\n",
       "      <th>1</th>\n",
       "      <td>7.696027</td>\n",
       "      <td>0.061743</td>\n",
       "      <td>3.257270</td>\n",
       "      <td>0.043842</td>\n",
       "      <td>10</td>\n",
       "      <td>{'max_iter': 10}</td>\n",
       "      <td>0.752872</td>\n",
       "      <td>0.752698</td>\n",
       "      <td>0.752785</td>\n",
       "      <td>0.000087</td>\n",
       "      <td>3</td>\n",
       "      <td>0.755837</td>\n",
       "      <td>0.755035</td>\n",
       "      <td>0.755436</td>\n",
       "      <td>0.000401</td>\n",
       "    </tr>\n",
       "    <tr>\n",
       "      <th>2</th>\n",
       "      <td>12.475981</td>\n",
       "      <td>0.124850</td>\n",
       "      <td>2.156903</td>\n",
       "      <td>0.074801</td>\n",
       "      <td>30</td>\n",
       "      <td>{'max_iter': 30}</td>\n",
       "      <td>0.769417</td>\n",
       "      <td>0.770663</td>\n",
       "      <td>0.770040</td>\n",
       "      <td>0.000623</td>\n",
       "      <td>2</td>\n",
       "      <td>0.781283</td>\n",
       "      <td>0.783087</td>\n",
       "      <td>0.782185</td>\n",
       "      <td>0.000902</td>\n",
       "    </tr>\n",
       "    <tr>\n",
       "      <th>3</th>\n",
       "      <td>22.457827</td>\n",
       "      <td>0.176986</td>\n",
       "      <td>1.275458</td>\n",
       "      <td>0.003157</td>\n",
       "      <td>100</td>\n",
       "      <td>{'max_iter': 100}</td>\n",
       "      <td>0.772272</td>\n",
       "      <td>0.772438</td>\n",
       "      <td>0.772355</td>\n",
       "      <td>0.000083</td>\n",
       "      <td>1</td>\n",
       "      <td>0.825927</td>\n",
       "      <td>0.829435</td>\n",
       "      <td>0.827681</td>\n",
       "      <td>0.001754</td>\n",
       "    </tr>\n",
       "  </tbody>\n",
       "</table>\n",
       "</div>"
      ],
      "text/plain": [
       "   mean_fit_time  std_fit_time  mean_score_time  std_score_time  \\\n",
       "0       6.140643      0.085187         3.163987        0.017652   \n",
       "1       7.696027      0.061743         3.257270        0.043842   \n",
       "2      12.475981      0.124850         2.156903        0.074801   \n",
       "3      22.457827      0.176986         1.275458        0.003157   \n",
       "\n",
       "  param_max_iter             params  split0_test_score  split1_test_score  \\\n",
       "0              3    {'max_iter': 3}           0.675703           0.676132   \n",
       "1             10   {'max_iter': 10}           0.752872           0.752698   \n",
       "2             30   {'max_iter': 30}           0.769417           0.770663   \n",
       "3            100  {'max_iter': 100}           0.772272           0.772438   \n",
       "\n",
       "   mean_test_score  std_test_score  rank_test_score  split0_train_score  \\\n",
       "0         0.675917        0.000214                4            0.676423   \n",
       "1         0.752785        0.000087                3            0.755837   \n",
       "2         0.770040        0.000623                2            0.781283   \n",
       "3         0.772355        0.000083                1            0.825927   \n",
       "\n",
       "   split1_train_score  mean_train_score  std_train_score  \n",
       "0            0.676437          0.676430         0.000007  \n",
       "1            0.755035          0.755436         0.000401  \n",
       "2            0.783087          0.782185         0.000902  \n",
       "3            0.829435          0.827681         0.001754  "
      ]
     },
     "execution_count": 25,
     "metadata": {},
     "output_type": "execute_result"
    }
   ],
   "source": [
    "results_lr = pd.DataFrame(grid_search_lr.cv_results_)\n",
    "results_lr"
   ]
  },
  {
   "cell_type": "code",
   "execution_count": 26,
   "metadata": {},
   "outputs": [
    {
     "name": "stdout",
     "output_type": "stream",
     "text": [
      "Fitting 2 folds for each of 3 candidates, totalling 6 fits\n"
     ]
    },
    {
     "name": "stderr",
     "output_type": "stream",
     "text": [
      "[Parallel(n_jobs=-1)]: Using backend LokyBackend with 8 concurrent workers.\n",
      "[Parallel(n_jobs=-1)]: Done   3 out of   6 | elapsed:    9.6s remaining:    9.6s\n",
      "[Parallel(n_jobs=-1)]: Done   6 out of   6 | elapsed:   15.6s finished\n"
     ]
    }
   ],
   "source": [
    "grid_search_sgd = GridSearchCV(SGDClassifier(loss=\"log\", max_iter=100_000), {\"tol\" : [1e-3, 1e-4, 1e-5]}, return_train_score=True, verbose=2, cv=2, n_jobs=-1)\n",
    "grid_search_sgd.fit(X_train, y_train);"
   ]
  },
  {
   "cell_type": "code",
   "execution_count": 27,
   "metadata": {},
   "outputs": [
    {
     "data": {
      "text/html": [
       "<div>\n",
       "<style scoped>\n",
       "    .dataframe tbody tr th:only-of-type {\n",
       "        vertical-align: middle;\n",
       "    }\n",
       "\n",
       "    .dataframe tbody tr th {\n",
       "        vertical-align: top;\n",
       "    }\n",
       "\n",
       "    .dataframe thead th {\n",
       "        text-align: right;\n",
       "    }\n",
       "</style>\n",
       "<table border=\"1\" class=\"dataframe\">\n",
       "  <thead>\n",
       "    <tr style=\"text-align: right;\">\n",
       "      <th></th>\n",
       "      <th>mean_fit_time</th>\n",
       "      <th>std_fit_time</th>\n",
       "      <th>mean_score_time</th>\n",
       "      <th>std_score_time</th>\n",
       "      <th>param_tol</th>\n",
       "      <th>params</th>\n",
       "      <th>split0_test_score</th>\n",
       "      <th>split1_test_score</th>\n",
       "      <th>mean_test_score</th>\n",
       "      <th>std_test_score</th>\n",
       "      <th>rank_test_score</th>\n",
       "      <th>split0_train_score</th>\n",
       "      <th>split1_train_score</th>\n",
       "      <th>mean_train_score</th>\n",
       "      <th>std_train_score</th>\n",
       "    </tr>\n",
       "  </thead>\n",
       "  <tbody>\n",
       "    <tr>\n",
       "      <th>0</th>\n",
       "      <td>3.670437</td>\n",
       "      <td>0.092043</td>\n",
       "      <td>2.178412</td>\n",
       "      <td>0.024795</td>\n",
       "      <td>0.001</td>\n",
       "      <td>{'tol': 0.001}</td>\n",
       "      <td>0.764978</td>\n",
       "      <td>0.766073</td>\n",
       "      <td>0.765526</td>\n",
       "      <td>0.000548</td>\n",
       "      <td>1</td>\n",
       "      <td>0.772828</td>\n",
       "      <td>0.772725</td>\n",
       "      <td>0.772777</td>\n",
       "      <td>0.000052</td>\n",
       "    </tr>\n",
       "    <tr>\n",
       "      <th>1</th>\n",
       "      <td>5.325876</td>\n",
       "      <td>0.051982</td>\n",
       "      <td>2.072479</td>\n",
       "      <td>0.040767</td>\n",
       "      <td>0.0001</td>\n",
       "      <td>{'tol': 0.0001}</td>\n",
       "      <td>0.764853</td>\n",
       "      <td>0.766190</td>\n",
       "      <td>0.765522</td>\n",
       "      <td>0.000668</td>\n",
       "      <td>2</td>\n",
       "      <td>0.772860</td>\n",
       "      <td>0.772322</td>\n",
       "      <td>0.772591</td>\n",
       "      <td>0.000269</td>\n",
       "    </tr>\n",
       "    <tr>\n",
       "      <th>2</th>\n",
       "      <td>12.365952</td>\n",
       "      <td>0.110125</td>\n",
       "      <td>1.278813</td>\n",
       "      <td>0.016750</td>\n",
       "      <td>1e-05</td>\n",
       "      <td>{'tol': 1e-05}</td>\n",
       "      <td>0.765028</td>\n",
       "      <td>0.765907</td>\n",
       "      <td>0.765467</td>\n",
       "      <td>0.000439</td>\n",
       "      <td>3</td>\n",
       "      <td>0.773053</td>\n",
       "      <td>0.772467</td>\n",
       "      <td>0.772760</td>\n",
       "      <td>0.000293</td>\n",
       "    </tr>\n",
       "  </tbody>\n",
       "</table>\n",
       "</div>"
      ],
      "text/plain": [
       "   mean_fit_time  std_fit_time  mean_score_time  std_score_time param_tol  \\\n",
       "0       3.670437      0.092043         2.178412        0.024795     0.001   \n",
       "1       5.325876      0.051982         2.072479        0.040767    0.0001   \n",
       "2      12.365952      0.110125         1.278813        0.016750     1e-05   \n",
       "\n",
       "            params  split0_test_score  split1_test_score  mean_test_score  \\\n",
       "0   {'tol': 0.001}           0.764978           0.766073         0.765526   \n",
       "1  {'tol': 0.0001}           0.764853           0.766190         0.765522   \n",
       "2   {'tol': 1e-05}           0.765028           0.765907         0.765467   \n",
       "\n",
       "   std_test_score  rank_test_score  split0_train_score  split1_train_score  \\\n",
       "0        0.000548                1            0.772828            0.772725   \n",
       "1        0.000668                2            0.772860            0.772322   \n",
       "2        0.000439                3            0.773053            0.772467   \n",
       "\n",
       "   mean_train_score  std_train_score  \n",
       "0          0.772777         0.000052  \n",
       "1          0.772591         0.000269  \n",
       "2          0.772760         0.000293  "
      ]
     },
     "execution_count": 27,
     "metadata": {},
     "output_type": "execute_result"
    }
   ],
   "source": [
    "results_sgd = pd.DataFrame(grid_search_sgd.cv_results_)\n",
    "results_sgd"
   ]
  },
  {
   "cell_type": "code",
   "execution_count": 28,
   "metadata": {},
   "outputs": [
    {
     "data": {
      "image/png": "[encoded data removed]",
      "text/plain": [
       "<Figure size 432x288 with 1 Axes>"
      ]
     },
     "metadata": {
      "needs_background": "light"
     },
     "output_type": "display_data"
    }
   ],
   "source": [
    "plt.plot(results_lr[\"mean_fit_time\"], results_lr[\"mean_train_score\"], label=\"lr train\")\n",
    "plt.plot(results_lr[\"mean_fit_time\"], results_lr[\"mean_test_score\"], label=\"lr cv\")\n",
    "plt.plot(results_sgd[\"mean_fit_time\"], results_sgd[\"mean_train_score\"], label=\"sgd train\")\n",
    "plt.plot(results_sgd[\"mean_fit_time\"], results_sgd[\"mean_test_score\"], label=\"sgd cv\")\n",
    "plt.xlabel(\"fit time(s)\");\n",
    "plt.ylabel(\"accuracy score\");\n",
    "plt.legend();"
   ]
  },
  {
   "cell_type": "code",
   "execution_count": null,
   "metadata": {},
   "outputs": [],
   "source": []
  },
  {
   "cell_type": "markdown",
   "metadata": {},
   "source": [
    "TL;DR if you don't want to wait that long, `SGDClassifier` will probably do better on a big dataset. "
   ]
  },
  {
   "cell_type": "code",
   "execution_count": 29,
   "metadata": {},
   "outputs": [],
   "source": [
    "# # TODO: Can use GridSearchCV to automate this?\n",
    "\n",
    "# n_iter_lr = [10, 30, 100, 300, 1000, 3000]\n",
    "# fit_times_lr = []\n",
    "# train_scores_lr = []\n",
    "# test_scores_lr = []\n",
    "# for n_iter in n_iter_lr:\n",
    "#     lr = LogisticRegression(max_iter=n_iter)\n",
    "#     time = %timeit -o -n1 -r1 lr.fit(X_train, y_train)\n",
    "#     fit_times_lr.append(time)\n",
    "#     train_scores_lr.append(lr.score(X_train, y_train))\n",
    "#     test_scores_lr.append(lr.score(X_test, y_test))\n",
    "    \n",
    "# n_iter_sgd = [100, 300, 1000, 3000, 10000, 30000]\n",
    "# fit_times_sgd = []\n",
    "# train_scores_sgd = []\n",
    "# test_scores_sgd = []\n",
    "# for n_iter in n_iter_sgd:\n",
    "#     lr = SGDClassifier(loss=\"log\", max_iter=n_iter)\n",
    "#     lr.fit(X_train, y_train)\n",
    "#     train_scores_lr.append(lr.score(X_train, y_train))\n",
    "#     test_scores_lr.append(lr.score(X_test, y_test))"
   ]
  }
 ],
 "metadata": {
  "kernelspec": {
   "display_name": "Python 3",
   "language": "python",
   "name": "python3"
  },
  "language_info": {
   "codemirror_mode": {
    "name": "ipython",
    "version": 3
   },
   "file_extension": ".py",
   "mimetype": "text/x-python",
   "name": "python",
   "nbconvert_exporter": "python",
   "pygments_lexer": "ipython3",
   "version": "3.8.5"
  }
 },
 "nbformat": 4,
 "nbformat_minor": 4
}
